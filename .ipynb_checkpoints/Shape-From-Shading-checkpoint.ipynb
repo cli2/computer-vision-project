{
 "cells": [
  {
   "cell_type": "markdown",
   "metadata": {
    "deletable": true,
    "editable": true
   },
   "source": [
    "# Shape From Shading "
   ]
  },
  {
   "cell_type": "markdown",
   "metadata": {
    "deletable": true,
    "editable": true
   },
   "source": [
    "## Step 0: Load the Data "
   ]
  },
  {
   "cell_type": "code",
   "execution_count": 1,
   "metadata": {
    "collapsed": false,
    "deletable": true,
    "editable": true
   },
   "outputs": [
    {
     "name": "stdout",
     "output_type": "stream",
     "text": [
      "(500, 128, 128, 3)\n",
      "(500, 128, 128, 3)\n",
      "(500, 128, 128, 3)\n"
     ]
    }
   ],
   "source": [
    "import numpy as np\n",
    "import matplotlib.pyplot as plt\n",
    "import cv2 \n",
    "%matplotlib inline\n",
    "#number of ALL images \n",
    "num_all = 500\n",
    "num_train = 450\n",
    "num_test = 50\n",
    "\n",
    "#import ALL color images \n",
    "color_dir = \"train/color/\"\n",
    "color = []\n",
    "for i in range(4500,5000):\n",
    "    img = cv2.imread(color_dir + str(i) + \".png\")\n",
    "    img = cv2.cvtColor(img, cv2.COLOR_BGR2RGB)\n",
    "    #resize image\n",
    "    #img = cv2.resize(img,(32, 32))\n",
    "    color.append(img)\n",
    "color = np.asarray(color)\n",
    "\n",
    "#import train masks\n",
    "mask_dir = \"train/mask/\"\n",
    "mask = []\n",
    "for i in range(4500,5000):\n",
    "    img = cv2.imread(mask_dir + str(i) + \".png\")\n",
    "    #resize image\n",
    "    #img = cv2.resize(img,(32, 32))\n",
    "    mask.append(img)\n",
    "mask = np.asarray(mask)\n",
    "\n",
    "#import train normal\n",
    "normal_dir = \"train/normal/\"\n",
    "normal = []\n",
    "for i in range(4500,5000):\n",
    "    img = cv2.imread(normal_dir + str(i) + \".png\")\n",
    "    img = cv2.cvtColor(img, cv2.COLOR_BGR2RGB)\n",
    "    #resize image\n",
    "    #img = cv2.resize(img,(32, 32))\n",
    "    normal.append(img)\n",
    "normal = np.asarray(normal)\n",
    "\n",
    "#train set \n",
    "train_color = color[0:num_train]\n",
    "train_mask = mask[0:num_train]\n",
    "train_normal = normal[0:num_train]\n",
    "\n",
    "#test set \n",
    "test_color = color[num_train:num_all]\n",
    "test_mask = mask[num_train:num_all]\n",
    "test_normal = normal[num_train:num_all]\n",
    "\n",
    "\n",
    "#print dimentions \n",
    "print(color.shape)\n",
    "print(mask.shape)\n",
    "print(normal.shape)"
   ]
  },
  {
   "cell_type": "markdown",
   "metadata": {
    "deletable": true,
    "editable": true
   },
   "source": [
    "## Step 1: import VGG16 Model"
   ]
  },
  {
   "cell_type": "markdown",
   "metadata": {
    "collapsed": false,
    "deletable": true,
    "editable": true
   },
   "source": [
    "from keras.applications.vgg16 import VGG16\n",
    "from keras.preprocessing import image\n",
    "from keras.applications.vgg16 import preprocess_input\n",
    "import numpy as np\n",
    "\n",
    "model = VGG16(weights='imagenet', include_top=True)"
   ]
  },
  {
   "cell_type": "markdown",
   "metadata": {
    "deletable": true,
    "editable": true
   },
   "source": [
    "## Step 2: extract hypercolumns"
   ]
  },
  {
   "cell_type": "markdown",
   "metadata": {
    "collapsed": false,
    "deletable": true,
    "editable": true
   },
   "source": [
    "import scipy as sp\n",
    "from keras import backend as K\n",
    "\n",
    "\n",
    "def extract_hypercolumn(model, layer_indexes, instance):\n",
    "    layers = [model.layers[li].output for li in layer_indexes]\n",
    "    get_features = K.function([model.layers[0].input, K.learning_phase()], layers)\n",
    "    \n",
    "    feature_maps = get_features([instance,0])\n",
    "    hypercolumns = []\n",
    "    for convmap in feature_maps:\n",
    "        hc = []\n",
    "        for fmap in convmap[0]:\n",
    "            #fmap = sp.misc.imresize(fmap, size=(224, 224), mode=\"F\", interp='bilinear')\n",
    "            #hypercolumns.append(fmap)\n",
    "            hc.append(fmap)\n",
    "        hc = np.average(hc, axis=2)\n",
    "        #hc = cv2.resize(hc,(128, 128))\n",
    "        hc = sp.misc.imresize(hc, size=(128, 128), mode=\"F\", interp='bilinear')\n",
    "        hypercolumns.append(hc)\n",
    "    return np.asarray(hypercolumns)\n"
   ]
  },
  {
   "cell_type": "markdown",
   "metadata": {
    "deletable": true,
    "editable": true
   },
   "source": [
    "### Extract Hypercolumns"
   ]
  },
  {
   "cell_type": "markdown",
   "metadata": {
    "collapsed": false,
    "deletable": true,
    "editable": true
   },
   "source": [
    "color_hc = []\n",
    "layers_extract = [1,2,4,5,7,8,9,11,12,13,15,16,17]\n",
    "#count = 0\n",
    "for col in color:\n",
    "    #if np.mod(count,100) == 0:\n",
    "    #    print(count)\n",
    "    #count = count + 1\n",
    "    temp = cv2.resize(col, (224, 224))\n",
    "    temp = image.img_to_array(temp)\n",
    "    temp = np.expand_dims(temp, axis=0)\n",
    "    hc = extract_hypercolumn(model, layers_extract, temp)\n",
    "    color_hc.append(hc)\n",
    "color_hc = np.asarray(color_hc)\n",
    "print(color_hc.shape)"
   ]
  },
  {
   "cell_type": "code",
   "execution_count": 35,
   "metadata": {
    "collapsed": false,
    "deletable": true,
    "editable": true
   },
   "outputs": [
    {
     "ename": "TypeError",
     "evalue": "only integer scalar arrays can be converted to a scalar index",
     "output_type": "error",
     "traceback": [
      "\u001b[0;31m---------------------------------------------------------------------------\u001b[0m",
      "\u001b[0;31mTypeError\u001b[0m                                 Traceback (most recent call last)",
      "\u001b[0;32m<ipython-input-35-d6ed490e7f7a>\u001b[0m in \u001b[0;36m<module>\u001b[0;34m()\u001b[0m\n\u001b[1;32m      2\u001b[0m \u001b[0mcolor_hc1\u001b[0m \u001b[0;34m=\u001b[0m \u001b[0mnp\u001b[0m\u001b[0;34m.\u001b[0m\u001b[0mload\u001b[0m\u001b[0;34m(\u001b[0m\u001b[0;34m\"a5000.npy\"\u001b[0m\u001b[0;34m)\u001b[0m\u001b[0;34m\u001b[0m\u001b[0m\n\u001b[1;32m      3\u001b[0m \u001b[0mcolor_hc2\u001b[0m \u001b[0;34m=\u001b[0m \u001b[0mnp\u001b[0m\u001b[0;34m.\u001b[0m\u001b[0mload\u001b[0m\u001b[0;34m(\u001b[0m\u001b[0;34m\"a5500.npy\"\u001b[0m\u001b[0;34m)\u001b[0m\u001b[0;34m\u001b[0m\u001b[0m\n\u001b[0;32m----> 4\u001b[0;31m \u001b[0mcolor_hc\u001b[0m \u001b[0;34m=\u001b[0m \u001b[0mnp\u001b[0m\u001b[0;34m.\u001b[0m\u001b[0mconcatenate\u001b[0m\u001b[0;34m(\u001b[0m\u001b[0mcolor_hc1\u001b[0m\u001b[0;34m,\u001b[0m\u001b[0mcolor_hc2\u001b[0m\u001b[0;34m,\u001b[0m\u001b[0;34m)\u001b[0m\u001b[0;34m\u001b[0m\u001b[0m\n\u001b[0m",
      "\u001b[0;31mTypeError\u001b[0m: only integer scalar arrays can be converted to a scalar index"
     ]
    }
   ],
   "source": [
    "import numpy as np\n",
    "color_hc = np.load(\"a5000.npy\")\n"
   ]
  },
  {
   "cell_type": "code",
   "execution_count": 3,
   "metadata": {
    "collapsed": true,
    "deletable": true,
    "editable": true
   },
   "outputs": [],
   "source": [
    "num_all = 500\n",
    "num_train = 450\n",
    "num_test = 50"
   ]
  },
  {
   "cell_type": "markdown",
   "metadata": {
    "deletable": true,
    "editable": true
   },
   "source": [
    "### Reshape hypercolumns: [None,13,128,128] => [None,128,128,13]"
   ]
  },
  {
   "cell_type": "code",
   "execution_count": 4,
   "metadata": {
    "collapsed": false,
    "deletable": true,
    "editable": true
   },
   "outputs": [
    {
     "name": "stdout",
     "output_type": "stream",
     "text": [
      "(500, 128, 128, 13)\n"
     ]
    }
   ],
   "source": [
    "#reshape: [13,128,128] => [128,128,13]\n",
    "color_hc_temp = []\n",
    "for i in range(num_all):\n",
    "    temp = np.zeros((128,128,13))\n",
    "    for j in range(13):\n",
    "        temp[:,:,j] = color_hc[i,j,:,:]\n",
    "    color_hc_temp.append(temp)\n",
    "color_hc_temp = np.asarray(color_hc_temp)    \n",
    "color_hc = color_hc_temp\n",
    "print(color_hc.shape)"
   ]
  },
  {
   "cell_type": "code",
   "execution_count": 5,
   "metadata": {
    "collapsed": false,
    "deletable": true,
    "editable": true
   },
   "outputs": [
    {
     "name": "stdout",
     "output_type": "stream",
     "text": [
      "(450, 128, 128, 13)\n",
      "(50, 128, 128, 13)\n"
     ]
    }
   ],
   "source": [
    "train_color_hc = color_hc[0:num_train]\n",
    "test_color_hc = color_hc[num_train:num_all]\n",
    "print(train_color_hc.shape)\n",
    "print(test_color_hc.shape)"
   ]
  },
  {
   "cell_type": "markdown",
   "metadata": {
    "deletable": true,
    "editable": true
   },
   "source": [
    "## Step 3: Preprocess training Image "
   ]
  },
  {
   "cell_type": "code",
   "execution_count": 24,
   "metadata": {
    "collapsed": false,
    "deletable": true,
    "editable": true
   },
   "outputs": [
    {
     "name": "stdout",
     "output_type": "stream",
     "text": [
      "(7372800, 4)\n",
      "(2481178, 4)\n",
      "(2481178, 3)\n"
     ]
    }
   ],
   "source": [
    "X_train = []\n",
    "X_train_masked = []\n",
    "y_train_masked = []\n",
    "hc_subset = [2,6,8,10]\n",
    "for i in range(num_train):\n",
    "    for j in range(128):\n",
    "        for k in range(128):\n",
    "            temp = []\n",
    "            for l in range(len(hc_subset)):\n",
    "                temp.append(train_color_hc[i,j,k,hc_subset[l]])\n",
    "            X_train.append(temp)\n",
    "            if train_mask[i,j,k,1] > 0:\n",
    "                tempX = []\n",
    "                tempy = []\n",
    "                for l in range(len(hc_subset)):\n",
    "                    tempX.append(train_color_hc[i,j,k,hc_subset[l]])\n",
    "                for l in range(3):\n",
    "                    tempy.append(train_normal[i,j,k,l])\n",
    "                X_train_masked.append(tempX)\n",
    "                y_train_masked.append(tempy)\n",
    "                \n",
    "X_train = np.asarray(X_train)               \n",
    "X_train_masked = np.asarray(X_train_masked)\n",
    "y_train_masked = np.asarray(y_train_masked)\n",
    "\n",
    "X_train = ((X_train / 255.0) - 0.5) * 2\n",
    "X_train_masked = ((X_train_masked / 255.0) - 0.5) * 2\n",
    "y_train_masked = ((y_train_masked / 255.0) - 0.5) * 2\n",
    "\n",
    "\n",
    "print(X_train.shape)\n",
    "print(X_train_masked.shape)\n",
    "print(y_train_masked.shape)"
   ]
  },
  {
   "cell_type": "markdown",
   "metadata": {
    "deletable": true,
    "editable": true
   },
   "source": [
    "## Step 4: Build Regression Model"
   ]
  },
  {
   "cell_type": "code",
   "execution_count": 25,
   "metadata": {
    "collapsed": false,
    "deletable": true,
    "editable": true
   },
   "outputs": [],
   "source": [
    "import tensorflow as tf\n",
    "# tf Graph Input\n",
    "\n",
    "# Parameters\n",
    "learning_rate = 0.001\n",
    "training_epochs = 5000\n",
    "n_samples = X_train_masked.shape[0]\n",
    "display_step = 100\n",
    "\n",
    "\n",
    "X = tf.placeholder(tf.float32,(None,len(hc_subset)))\n",
    "Y = tf.placeholder(tf.float32,(None,3))\n",
    "# Set model weights\n",
    "W1 = tf.Variable(tf.truncated_normal(shape = (len(hc_subset),3), name = \"weight1\"))\n",
    "b1 = tf.Variable(tf.zeros(3), name = 'bias1')\n",
    "\n",
    "#W = tf.Variable(rng.randn(), name=\"weight\")\n",
    "#b = tf.Variable(rng.randn(), name=\"bias\")\n",
    "# Construct a linear model\n",
    "\n"
   ]
  },
  {
   "cell_type": "code",
   "execution_count": 26,
   "metadata": {
    "collapsed": true,
    "deletable": true,
    "editable": true
   },
   "outputs": [],
   "source": [
    "pred = tf.add(tf.matmul(X, W1), b1)\n",
    "# Mean squared error\n",
    "cost = tf.reduce_sum(tf.pow(pred-Y, 2)) / (2*n_samples)\n",
    "# Gradient descent\n",
    "optimizer = tf.train.GradientDescentOptimizer(learning_rate).minimize(cost)\n",
    "\n",
    "# Initializing the variables\n",
    "init = tf.global_variables_initializer()\n",
    "\n",
    "saver = tf.train.Saver()"
   ]
  },
  {
   "cell_type": "markdown",
   "metadata": {
    "deletable": true,
    "editable": true
   },
   "source": [
    "### Launch the graph"
   ]
  },
  {
   "cell_type": "code",
   "execution_count": 27,
   "metadata": {
    "collapsed": false,
    "deletable": true,
    "editable": true
   },
   "outputs": [
    {
     "name": "stdout",
     "output_type": "stream",
     "text": [
      "Epoch: 0000 cost= 1.437414765\n",
      "Epoch: 0100 cost= 1.080667973\n",
      "Epoch: 0200 cost= 0.853282094\n",
      "Epoch: 0300 cost= 0.707067549\n",
      "Epoch: 0400 cost= 0.611964583\n",
      "Epoch: 0500 cost= 0.549123049\n",
      "Epoch: 0600 cost= 0.506740153\n",
      "Epoch: 0700 cost= 0.477415353\n",
      "Epoch: 0800 cost= 0.456483722\n",
      "Epoch: 0900 cost= 0.441020310\n",
      "Epoch: 1000 cost= 0.429173648\n",
      "Epoch: 1100 cost= 0.419767857\n",
      "Epoch: 1200 cost= 0.412050992\n",
      "Epoch: 1300 cost= 0.405538768\n",
      "Epoch: 1400 cost= 0.399914682\n",
      "Epoch: 1500 cost= 0.394970745\n",
      "Epoch: 1600 cost= 0.390560240\n",
      "Epoch: 1700 cost= 0.386585981\n",
      "Epoch: 1800 cost= 0.382975310\n",
      "Epoch: 1900 cost= 0.379675388\n",
      "Epoch: 2000 cost= 0.376648396\n",
      "Epoch: 2100 cost= 0.373858541\n",
      "Epoch: 2200 cost= 0.371278673\n",
      "Epoch: 2300 cost= 0.368887931\n",
      "Epoch: 2400 cost= 0.366668016\n",
      "Epoch: 2500 cost= 0.364604533\n",
      "Epoch: 2600 cost= 0.362675577\n",
      "Epoch: 2700 cost= 0.360875309\n",
      "Epoch: 2800 cost= 0.359189719\n",
      "Epoch: 2900 cost= 0.357607722\n",
      "Epoch: 3000 cost= 0.356122524\n",
      "Epoch: 3100 cost= 0.354721218\n",
      "Epoch: 3200 cost= 0.353401095\n",
      "Epoch: 3300 cost= 0.352153182\n",
      "Epoch: 3400 cost= 0.350970924\n",
      "Epoch: 3500 cost= 0.349847972\n",
      "Epoch: 3600 cost= 0.348781496\n",
      "Epoch: 3700 cost= 0.347766459\n",
      "Epoch: 3800 cost= 0.346797824\n",
      "Epoch: 3900 cost= 0.345872551\n",
      "Epoch: 4000 cost= 0.344984055\n",
      "Epoch: 4100 cost= 0.344132662\n",
      "Epoch: 4200 cost= 0.343317121\n",
      "Epoch: 4300 cost= 0.342530936\n",
      "Epoch: 4400 cost= 0.341769904\n",
      "Epoch: 4500 cost= 0.341039270\n",
      "Epoch: 4600 cost= 0.340331435\n",
      "Epoch: 4700 cost= 0.339646369\n",
      "Epoch: 4800 cost= 0.338983685\n",
      "Epoch: 4900 cost= 0.338339269\n",
      "Optimization Finished!\n",
      "Training cost= 0.337721 W1= [[-0.12904774  0.44614124 -0.21095264]\n",
      " [ 0.17003497 -1.1242969   0.19727993]\n",
      " [ 0.44274738  1.35222197  0.30603877]\n",
      " [-0.97474831 -0.87668777 -0.80235809]] b1= [-0.57119328 -0.20271982  0.1406039 ] \n",
      "\n",
      "[2, 6, 8, 10]\n",
      "Model saved\n"
     ]
    }
   ],
   "source": [
    "with tf.Session() as sess:\n",
    "    sess.run(init)\n",
    "\n",
    "    # Fit all training data\n",
    "    for epoch in range(training_epochs):\n",
    "        #for (x, y) in zip(X_train, y_train):\n",
    "        #    x = np.reshape(x, [1,5])\n",
    "        #    y = np.reshape(y, [1,3])\n",
    "        sess.run(optimizer, feed_dict={X: X_train_masked, Y: y_train_masked})\n",
    "\n",
    "        #Display epoch step\n",
    "        if epoch % display_step == 0:\n",
    "            c = sess.run(cost, feed_dict={X: X_train_masked, Y:y_train_masked})\n",
    "            print(\"Epoch:\", '%04d' % (epoch), \"cost=\", \"{:.9f}\".format(c))\n",
    "\n",
    "    print(\"Optimization Finished!\")\n",
    "    training_cost = sess.run(cost, feed_dict={X: X_train_masked, Y: y_train_masked})\n",
    "    print (\"Training cost=\", training_cost, \"W1=\", sess.run(W1), \"b1=\", sess.run(b1), '\\n')\n",
    "    print(hc_subset)\n",
    "    saver.save(sess, './iiinet')\n",
    "    print(\"Model saved\")\n"
   ]
  },
  {
   "cell_type": "markdown",
   "metadata": {
    "deletable": true,
    "editable": true
   },
   "source": [
    "## Step 5: Use Trained Regression Model to Predict Test Image  "
   ]
  },
  {
   "cell_type": "markdown",
   "metadata": {
    "deletable": true,
    "editable": true
   },
   "source": [
    "### Preprocess Test Image"
   ]
  },
  {
   "cell_type": "code",
   "execution_count": 28,
   "metadata": {
    "collapsed": false,
    "deletable": true,
    "editable": true
   },
   "outputs": [
    {
     "name": "stdout",
     "output_type": "stream",
     "text": [
      "(819200, 4)\n"
     ]
    }
   ],
   "source": [
    "X_test = []\n",
    "\n",
    "for i in range(num_test):\n",
    "    for j in range(128):\n",
    "        for k in range(128):\n",
    "            temp = []\n",
    "            for l in range(len(hc_subset)):\n",
    "                temp.append(test_color_hc[i,j,k,hc_subset[l]])\n",
    "            X_test.append(temp)\n",
    "                \n",
    "X_test = np.asarray(X_test)\n",
    "X_test = ((X_test / 255.0) - 0.5) * 2\n",
    "print(X_test.shape)"
   ]
  },
  {
   "cell_type": "code",
   "execution_count": 29,
   "metadata": {
    "collapsed": false,
    "deletable": true,
    "editable": true
   },
   "outputs": [],
   "source": [
    "with tf.Session() as sess: \n",
    "    saver.restore(sess, tf.train.latest_checkpoint('.')) \n",
    "    output = sess.run(pred, feed_dict={X: X_test})"
   ]
  },
  {
   "cell_type": "markdown",
   "metadata": {
    "collapsed": false,
    "deletable": true,
    "editable": true
   },
   "source": [
    "### Rocover Predicted Test Image "
   ]
  },
  {
   "cell_type": "code",
   "execution_count": 30,
   "metadata": {
    "collapsed": false,
    "deletable": true,
    "editable": true
   },
   "outputs": [
    {
     "name": "stdout",
     "output_type": "stream",
     "text": [
      "(50, 128, 128, 3)\n"
     ]
    }
   ],
   "source": [
    "pred_normal = np.reshape(output,(num_test, 128,128,3))\n",
    "pred_normal = (pred_normal /2 + 0.5) * 255\n",
    "pred_normal = np.round(pred_normal)\n",
    "for i in range(num_test):\n",
    "    for j in range(128):\n",
    "        for k in range(128):\n",
    "            if test_mask[i,j,k,0] == 0:\n",
    "                pred_normal[i,j,k,:] = 0\n",
    "print(pred_normal.shape)"
   ]
  },
  {
   "cell_type": "markdown",
   "metadata": {
    "deletable": true,
    "editable": true
   },
   "source": [
    "### Visualize Test Image "
   ]
  },
  {
   "cell_type": "code",
   "execution_count": 31,
   "metadata": {
    "collapsed": false,
    "deletable": true,
    "editable": true
   },
   "outputs": [
    {
     "data": {
      "text/plain": [
       "<matplotlib.image.AxesImage at 0x116fffa58>"
      ]
     },
     "execution_count": 31,
     "metadata": {},
     "output_type": "execute_result"
    },
    {
     "data": {
      "image/png": "[encoded data removed]",
      "text/plain": [
       "<matplotlib.figure.Figure at 0x116e9d5c0>"
      ]
     },
     "metadata": {},
     "output_type": "display_data"
    },
    {
     "data": {
      "image/png": "[encoded data removed]",
      "text/plain": [
       "<matplotlib.figure.Figure at 0x116d9b828>"
      ]
     },
     "metadata": {},
     "output_type": "display_data"
    }
   ],
   "source": [
    "plt.figure(figsize = (1,1))\n",
    "plt.imshow(pred_normal[3])\n",
    "plt.figure(figsize = (1,1))\n",
    "plt.imshow(test_normal[3])"
   ]
  },
  {
   "cell_type": "code",
   "execution_count": 32,
   "metadata": {
    "collapsed": false,
    "deletable": true,
    "editable": true
   },
   "outputs": [],
   "source": [
    "import scipy.misc\n",
    "for i in range(len(pred_normal)):\n",
    "    scipy.misc.imsave(str(i+4950)+'.png', pred_normal[i])\n",
    "    "
   ]
  },
  {
   "cell_type": "code",
   "execution_count": null,
   "metadata": {
    "collapsed": false,
    "deletable": true,
    "editable": true
   },
   "outputs": [],
   "source": []
  },
  {
   "cell_type": "code",
   "execution_count": null,
   "metadata": {
    "collapsed": false,
    "deletable": true,
    "editable": true
   },
   "outputs": [],
   "source": []
  },
  {
   "cell_type": "code",
   "execution_count": null,
   "metadata": {
    "collapsed": true,
    "deletable": true,
    "editable": true
   },
   "outputs": [],
   "source": []
  },
  {
   "cell_type": "code",
   "execution_count": null,
   "metadata": {
    "collapsed": true,
    "deletable": true,
    "editable": true
   },
   "outputs": [],
   "source": []
  }
 ],
 "metadata": {
  "kernelspec": {
   "display_name": "Python 3",
   "language": "python",
   "name": "python3"
  },
  "language_info": {
   "codemirror_mode": {
    "name": "ipython",
    "version": 3
   },
   "file_extension": ".py",
   "mimetype": "text/x-python",
   "name": "python",
   "nbconvert_exporter": "python",
   "pygments_lexer": "ipython3",
   "version": "3.5.3"
  }
 },
 "nbformat": 4,
 "nbformat_minor": 2
}
